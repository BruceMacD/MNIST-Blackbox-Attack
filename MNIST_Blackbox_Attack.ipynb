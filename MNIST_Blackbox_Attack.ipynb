{
  "nbformat": 4,
  "nbformat_minor": 0,
  "metadata": {
    "colab": {
      "name": "MNIST_Blackbox_Attack.ipynb",
      "version": "0.3.2",
      "views": {},
      "default_view": {},
      "provenance": [],
      "collapsed_sections": []
    },
    "kernelspec": {
      "display_name": "Python [default]",
      "language": "python",
      "name": "python3"
    }
  },
  "cells": [
    {
      "metadata": {
        "id": "sKGsmsab5I1S",
        "colab_type": "text"
      },
      "cell_type": "markdown",
      "source": [
        "# <center>CleverHans Blackbox Attack on MNIST</center>"
      ]
    },
    {
      "metadata": {
        "id": "Awd7uxP7MeDo",
        "colab_type": "text"
      },
      "cell_type": "markdown",
      "source": [
        "This is a Jupyter Notebook implementation of the Cleverhans Blackbox Tutorial for presentation purposes.\n",
        "\n",
        "This tutorial demonstrates the steps required to craft a blackbox attack on a remote model.\n",
        "\n",
        "The original implementation is available in the [CleverHans github repo](https://github.com/tensorflow/cleverhans/blob/master/cleverhans_tutorials/mnist_blackbox.py)."
      ]
    },
    {
      "metadata": {
        "id": "F-57mVG8ggW0",
        "colab_type": "code",
        "colab": {
          "autoexec": {
            "startup": false,
            "wait_interval": 0
          }
        }
      },
      "cell_type": "code",
      "source": [
        "#Adding the CleverHans dependencies to the environment\n",
        "!pip install -qq -e git+http://github.com/tensorflow/cleverhans.git#egg=cleverhans\n",
        "import sys\n",
        "sys.path.append('/content/src/cleverhans')\n",
        "import cleverhans"
      ],
      "execution_count": 0,
      "outputs": []
    },
    {
      "metadata": {
        "id": "B4teB1gh5I1V",
        "colab_type": "code",
        "colab": {
          "autoexec": {
            "startup": false,
            "wait_interval": 0
          }
        }
      },
      "cell_type": "code",
      "source": [
        "from __future__ import print_function,division,unicode_literals,absolute_import\n",
        "%matplotlib inline\n",
        "import matplotlib.pyplot as plt\n",
        "import random \n",
        "import tensorflow as tf\n",
        "import numpy as np\n",
        "import seaborn as sns\n",
        "import logging\n",
        "\n",
        "from six.moves import xrange\n",
        "from cleverhans.utils_mnist import data_mnist\n",
        "from cleverhans.utils import to_categorical\n",
        "from cleverhans.utils import set_log_level\n",
        "from cleverhans.utils_tf import model_train, model_eval, batch_eval\n",
        "from cleverhans.attacks import FastGradientMethod\n",
        "from cleverhans.attacks_tf import jacobian_graph, jacobian_augmentation\n",
        "\n",
        "from cleverhans_tutorials.tutorial_models import make_basic_cnn, MLP\n",
        "from cleverhans_tutorials.tutorial_models import Flatten, Linear, ReLU, Softmax\n",
        "from cleverhans.utils import TemporaryLogLevel"
      ],
      "execution_count": 0,
      "outputs": []
    },
    {
      "metadata": {
        "id": "OFk0_Wz3Y7Tv",
        "colab_type": "text"
      },
      "cell_type": "markdown",
      "source": [
        "## Create a Model to Serve as our Remote Blackbox"
      ]
    },
    {
      "metadata": {
        "id": "HeiFeUVVZLYh",
        "colab_type": "text"
      },
      "cell_type": "markdown",
      "source": [
        "We don't have a remote blackbox model to test on so we will create a new model to treat as a blackbox. \n",
        "\n",
        "For this example we are creating a blackbox using the built-in *make_basic_cnn* function provided in the CleverHans library. This blackbox is a convolutional neural network that takes in a hand-written text and outputs the corresponding number to that text."
      ]
    },
    {
      "metadata": {
        "id": "JyrQrIAyZGxe",
        "colab_type": "code",
        "colab": {
          "autoexec": {
            "startup": false,
            "wait_interval": 0
          }
        }
      },
      "cell_type": "code",
      "source": [
        "def prep_bbox(sess, x, y, X_train, Y_train, X_test, Y_test,\n",
        "              nb_epochs, batch_size, learning_rate,\n",
        "              rng):\n",
        "    \"\"\"\n",
        "    Define and train a model that simulates the \"remote\"\n",
        "    black-box oracle described in the original paper.\n",
        "    :param sess: the TF session\n",
        "    :param x: the input placeholder for MNIST\n",
        "    :param y: the ouput placeholder for MNIST\n",
        "    :param X_train: the training data for the oracle\n",
        "    :param Y_train: the training labels for the oracle\n",
        "    :param X_test: the testing data for the oracle\n",
        "    :param Y_test: the testing labels for the oracle\n",
        "    :param nb_epochs: number of epochs to train model\n",
        "    :param batch_size: size of training batches\n",
        "    :param learning_rate: learning rate for training\n",
        "    :param rng: numpy.random.RandomState\n",
        "    :return:\n",
        "    \"\"\"\n",
        "\n",
        "    # Define TF model graph (for the black-box model)\n",
        "    model = make_basic_cnn()\n",
        "    predictions = model(x)\n",
        "    print(\"Defined TensorFlow model graph.\")\n",
        "\n",
        "    # Train an MNIST model\n",
        "    train_params = {\n",
        "        'nb_epochs': nb_epochs,\n",
        "        'batch_size': batch_size,\n",
        "        'learning_rate': learning_rate\n",
        "    }\n",
        "    model_train(sess, x, y, predictions, X_train, Y_train,\n",
        "                args=train_params, rng=rng)\n",
        "\n",
        "    # Print out the accuracy on legitimate data\n",
        "    eval_params = {'batch_size': batch_size}\n",
        "    accuracy = model_eval(sess, x, y, predictions, X_test, Y_test,\n",
        "                          args=eval_params)\n",
        "    print('Test accuracy of black-box on legitimate test '\n",
        "          'examples: ' + str(accuracy))\n",
        "\n",
        "    return model, predictions, accuracy"
      ],
      "execution_count": 0,
      "outputs": []
    },
    {
      "metadata": {
        "id": "vWzfE86tusct",
        "colab_type": "text"
      },
      "cell_type": "markdown",
      "source": [
        "## Simulate the Remote Blackbox with a Substitute Model"
      ]
    },
    {
      "metadata": {
        "id": "PC6HOMDdNkjH",
        "colab_type": "text"
      },
      "cell_type": "markdown",
      "source": [
        "The first step of the attack is to create a substitute model that will be trained based on predictions from the blackbox model.\n",
        "\n",
        "The substitute model does not have to have the same structure as the blackbox.\n",
        "\n"
      ]
    },
    {
      "metadata": {
        "id": "H4Q3ktObhwZ-",
        "colab_type": "code",
        "colab": {
          "autoexec": {
            "startup": false,
            "wait_interval": 0
          }
        }
      },
      "cell_type": "code",
      "source": [
        "def substitute_model(img_rows=28, img_cols=28, nb_classes=10):\n",
        "    \"\"\"\n",
        "    Defines the model architecture to be used by the substitute. Use\n",
        "    the example model interface.\n",
        "    :param img_rows: number of rows in input\n",
        "    :param img_cols: number of columns in input\n",
        "    :param nb_classes: number of classes in output\n",
        "    :return: tensorflow model\n",
        "    \"\"\"\n",
        "    input_shape = (None, img_rows, img_cols, 1)\n",
        "\n",
        "    # Define a fully connected model (it's different than the black-box)\n",
        "    layers = [Flatten(),\n",
        "              Linear(200),\n",
        "              ReLU(),\n",
        "              Linear(200),\n",
        "              ReLU(),\n",
        "              Linear(nb_classes),\n",
        "              Softmax()]\n",
        "\n",
        "    return MLP(layers, input_shape)"
      ],
      "execution_count": 0,
      "outputs": []
    },
    {
      "metadata": {
        "id": "qums4YD0OlY4",
        "colab_type": "text"
      },
      "cell_type": "markdown",
      "source": [
        "Training our substitution model involves using Jacobian-based dataset augmentation to increase the number of samples by querying the blackbox on the datapoints that change the most."
      ]
    },
    {
      "metadata": {
        "id": "gVl5OlOph4mR",
        "colab_type": "code",
        "colab": {
          "autoexec": {
            "startup": false,
            "wait_interval": 0
          }
        }
      },
      "cell_type": "code",
      "source": [
        "def train_sub(sess, x, y, bbox_preds, X_sub, Y_sub, nb_classes,\n",
        "              nb_epochs_s, batch_size, learning_rate, data_aug, lmbda,\n",
        "              rng):\n",
        "    \"\"\"\n",
        "    This function creates the substitute by alternatively\n",
        "    augmenting the training data and training the substitute.\n",
        "    :param sess: TF session\n",
        "    :param x: input TF placeholder\n",
        "    :param y: output TF placeholder\n",
        "    :param bbox_preds: output of black-box model predictions\n",
        "    :param X_sub: initial substitute training data\n",
        "    :param Y_sub: initial substitute training labels\n",
        "    :param nb_classes: number of output classes\n",
        "    :param nb_epochs_s: number of epochs to train substitute model\n",
        "    :param batch_size: size of training batches\n",
        "    :param learning_rate: learning rate for training\n",
        "    :param data_aug: number of times substitute training data is augmented\n",
        "    :param lmbda: lambda from arxiv.org/abs/1602.02697\n",
        "    :param rng: numpy.random.RandomState instance\n",
        "    :return:\n",
        "    \"\"\"\n",
        "    # Define TF model graph (for the black-box model)\n",
        "    model_sub = substitute_model()\n",
        "    preds_sub = model_sub(x)\n",
        "    print(\"Defined TensorFlow model graph for the substitute.\")\n",
        "\n",
        "    # Define the Jacobian symbolically using TensorFlow\n",
        "    grads = jacobian_graph(preds_sub, x, nb_classes)\n",
        "\n",
        "    # Train the substitute and augment dataset alternatively\n",
        "    for rho in xrange(data_aug):\n",
        "        print(\"Substitute training epoch #\" + str(rho))\n",
        "        train_params = {\n",
        "            'nb_epochs': nb_epochs_s,\n",
        "            'batch_size': batch_size,\n",
        "            'learning_rate': learning_rate\n",
        "        }\n",
        "        with TemporaryLogLevel(logging.WARNING, \"cleverhans.utils.tf\"):\n",
        "            model_train(sess, x, y, preds_sub, X_sub,\n",
        "                        to_categorical(Y_sub, nb_classes),\n",
        "                        init_all=False, args=train_params, rng=rng)\n",
        "\n",
        "        # If we are not at last substitute training iteration, augment dataset\n",
        "        if rho < data_aug - 1:\n",
        "            print(\"Augmenting substitute training data.\")\n",
        "            # Perform the Jacobian augmentation\n",
        "            lmbda_coef = 2 * int(int(rho / 3) != 0) - 1\n",
        "            X_sub = jacobian_augmentation(sess, x, X_sub, Y_sub, grads,\n",
        "                                          lmbda_coef * lmbda)\n",
        "\n",
        "            print(\"Labeling substitute training data.\")\n",
        "            # Label the newly generated synthetic points using the black-box\n",
        "            Y_sub = np.hstack([Y_sub, Y_sub])\n",
        "            X_sub_prev = X_sub[int(len(X_sub)/2):]\n",
        "            eval_params = {'batch_size': batch_size}\n",
        "            bbox_val = batch_eval(sess, [x], [bbox_preds], [X_sub_prev],\n",
        "                                  args=eval_params)[0]\n",
        "            # Note here that we take the argmax because the adversary\n",
        "            # only has access to the label (not the probabilities) output\n",
        "            # by the black-box model\n",
        "            Y_sub[int(len(X_sub)/2):] = np.argmax(bbox_val, axis=1)\n",
        "\n",
        "    return model_sub, preds_sub"
      ],
      "execution_count": 0,
      "outputs": []
    },
    {
      "metadata": {
        "id": "0NoF_95BUEGh",
        "colab_type": "text"
      },
      "cell_type": "markdown",
      "source": [
        "# Craft Adversarial Examples Using the Substitute Model"
      ]
    },
    {
      "metadata": {
        "id": "G9AjcU_xUlYB",
        "colab_type": "code",
        "colab": {
          "autoexec": {
            "startup": false,
            "wait_interval": 0
          }
        }
      },
      "cell_type": "code",
      "source": [
        "# Setting the parameters to use in our training \n",
        "# Index of the first training set example\n",
        "train_start=0\n",
        "# Index of the last training set example\n",
        "train_end=60000\n",
        "# Index of the first test set example\n",
        "test_start=0\n",
        "# Index of the last test set example\n",
        "test_end=10000\n",
        "nb_classes=10\n",
        "batch_size=128\n",
        "learning_rate=0.001\n",
        "nb_epochs=10\n",
        "holdout=150\n",
        "data_aug=6\n",
        "nb_epochs_s=10\n",
        "lmbda=0.1"
      ],
      "execution_count": 0,
      "outputs": []
    },
    {
      "metadata": {
        "id": "vSb0hn5xXPNW",
        "colab_type": "text"
      },
      "cell_type": "markdown",
      "source": [
        "Start by initializing the parameters we will need to run our attack. \n",
        "\n",
        "The blackbox we created earlier is created and trained.\n",
        "\n"
      ]
    },
    {
      "metadata": {
        "id": "3IQeo_3UVko2",
        "colab_type": "code",
        "colab": {
          "autoexec": {
            "startup": false,
            "wait_interval": 0
          },
          "base_uri": "https://localhost:8080/",
          "height": 710
        },
        "outputId": "59aa4705-b61d-4ef1-a402-f3f726702211",
        "executionInfo": {
          "status": "ok",
          "timestamp": 1529369068530,
          "user_tz": 180,
          "elapsed": 1558088,
          "user": {
            "displayName": "Bruce MacDonald",
            "photoUrl": "//lh5.googleusercontent.com/-Ze95lBrKU1M/AAAAAAAAAAI/AAAAAAAABo4/2oUOntC9DBE/s50-c-k-no/photo.jpg",
            "userId": "116600609320820755858"
          }
        }
      },
      "cell_type": "code",
      "source": [
        "# Set logging level to see debug information\n",
        "set_log_level(logging.DEBUG)\n",
        "\n",
        "# Dictionary used to keep track and return key accuracies\n",
        "accuracies = {}\n",
        "\n",
        "# Create TF session\n",
        "sess = tf.Session()\n",
        "\n",
        "# Get MNIST data\n",
        "X_train, Y_train, X_test, Y_test = data_mnist(train_start=train_start,\n",
        "                                                  train_end=train_end,\n",
        "                                                  test_start=test_start,\n",
        "                                                  test_end=test_end)\n",
        "\n",
        "# Initialize substitute training set reserved for adversary\n",
        "X_sub = X_test[:holdout]\n",
        "Y_sub = np.argmax(Y_test[:holdout], axis=1)\n",
        "\n",
        "# Redefine test set as remaining samples unavailable to adversaries\n",
        "X_test = X_test[holdout:]\n",
        "Y_test = Y_test[holdout:]\n",
        "\n",
        "# Define input and output TF placeholders\n",
        "x = tf.placeholder(tf.float32, shape=(None, 28, 28, 1))\n",
        "y = tf.placeholder(tf.float32, shape=(None, 10))\n",
        "\n",
        "# Seed random number generator so tutorial is reproducible\n",
        "rng = np.random.RandomState([2017, 8, 30])\n",
        "\n",
        "# Simulate the black-box model locally\n",
        "# You could replace this by a remote labeling API for instance\n",
        "print(\"Preparing the black-box model.\")\n",
        "prep_bbox_out = prep_bbox(sess, x, y, X_train, Y_train, X_test, Y_test,\n",
        "                              nb_epochs, batch_size, learning_rate,\n",
        "                              rng=rng)\n",
        "model, bbox_preds, accuracies['bbox'] = prep_bbox_out\n",
        "\n",
        "# Print out some example inputs to the model\n",
        "for idx in enumerate(random.sample(range(50),10)): \n",
        "    plt.imshow(X_train[idx].reshape(28,28))"
      ],
      "execution_count": 9,
      "outputs": [
        {
          "output_type": "stream",
          "text": [
            "Preparing the black-box model.\n",
            "WARNING:tensorflow:From /content/src/cleverhans/cleverhans_tutorials/tutorial_models.py:79: calling reduce_sum (from tensorflow.python.ops.math_ops) with keep_dims is deprecated and will be removed in a future version.\n",
            "Instructions for updating:\n",
            "keep_dims is deprecated, use keepdims instead\n",
            "Defined TensorFlow model graph.\n",
            "WARNING:tensorflow:From /content/src/cleverhans/cleverhans/utils_tf.py:37: softmax_cross_entropy_with_logits (from tensorflow.python.ops.nn_ops) is deprecated and will be removed in a future version.\n",
            "Instructions for updating:\n",
            "\n",
            "Future major versions of TensorFlow will allow gradients to flow\n",
            "into the labels input on backprop by default.\n",
            "\n",
            "See @{tf.nn.softmax_cross_entropy_with_logits_v2}.\n",
            "\n"
          ],
          "name": "stdout"
        },
        {
          "output_type": "stream",
          "text": [
            "[INFO 2018-06-19 00:21:06,547 cleverhans] Epoch 0 took 154.99071836471558 seconds\n",
            "[INFO 2018-06-19 00:23:41,920 cleverhans] Epoch 1 took 155.3639657497406 seconds\n",
            "[INFO 2018-06-19 00:26:17,023 cleverhans] Epoch 2 took 155.09301280975342 seconds\n",
            "[INFO 2018-06-19 00:28:53,026 cleverhans] Epoch 3 took 155.98964095115662 seconds\n",
            "[INFO 2018-06-19 00:31:26,685 cleverhans] Epoch 4 took 153.64335536956787 seconds\n",
            "[INFO 2018-06-19 00:34:01,340 cleverhans] Epoch 5 took 154.64132237434387 seconds\n",
            "[INFO 2018-06-19 00:36:36,266 cleverhans] Epoch 6 took 154.91804432868958 seconds\n",
            "[INFO 2018-06-19 00:39:11,040 cleverhans] Epoch 7 took 154.75997519493103 seconds\n",
            "[INFO 2018-06-19 00:41:46,380 cleverhans] Epoch 8 took 155.32668542861938 seconds\n",
            "[INFO 2018-06-19 00:44:23,370 cleverhans] Epoch 9 took 156.9770529270172 seconds\n",
            "[INFO 2018-06-19 00:44:23,372 cleverhans] Completed model training.\n"
          ],
          "name": "stderr"
        },
        {
          "output_type": "stream",
          "text": [
            "Test accuracy of black-box on legitimate test examples: 0.9908629441624366\n"
          ],
          "name": "stdout"
        },
        {
          "output_type": "display_data",
          "data": {
            "image/png": "[encoded data removed]",
            "text/plain": [
              "<matplotlib.figure.Figure at 0x7f435641f470>"
            ]
          },
          "metadata": {
            "tags": []
          }
        }
      ]
    },
    {
      "metadata": {
        "id": "aQ-o4gAAbpVf",
        "colab_type": "text"
      },
      "cell_type": "markdown",
      "source": [
        "![DNN Substitute Model Training](https://i.imgur.com/txzJQVf.png)\n",
        "\n",
        "Now we are going to train our substitute model using the method shown above from [Practical Black-Box Attacks against Machine Learning\n",
        "](https://arxiv.org/abs/1602.02697). In this method the blackbox is labeleld as the Oracle."
      ]
    },
    {
      "metadata": {
        "id": "kiP1BIp6hUm6",
        "colab_type": "code",
        "colab": {
          "autoexec": {
            "startup": false,
            "wait_interval": 0
          },
          "base_uri": "https://localhost:8080/",
          "height": 1445
        },
        "outputId": "263f39b4-d1c2-49b9-8911-69c3123a1268",
        "executionInfo": {
          "status": "ok",
          "timestamp": 1529370336256,
          "user_tz": 180,
          "elapsed": 879620,
          "user": {
            "displayName": "Bruce MacDonald",
            "photoUrl": "//lh5.googleusercontent.com/-Ze95lBrKU1M/AAAAAAAAAAI/AAAAAAAABo4/2oUOntC9DBE/s50-c-k-no/photo.jpg",
            "userId": "116600609320820755858"
          }
        }
      },
      "cell_type": "code",
      "source": [
        "# Train substitute using method from https://arxiv.org/abs/1602.02697\n",
        "print(\"Training the substitute model.\")\n",
        "train_sub_out = train_sub(sess, x, y, bbox_preds, X_sub, Y_sub,\n",
        "                              nb_classes, nb_epochs_s, batch_size,\n",
        "                              learning_rate, data_aug, lmbda, rng=rng)\n",
        "model_sub, preds_sub = train_sub_out"
      ],
      "execution_count": 10,
      "outputs": [
        {
          "output_type": "stream",
          "text": [
            "Training the substitute model.\n",
            "Defined TensorFlow model graph for the substitute.\n",
            "Substitute training epoch #0\n"
          ],
          "name": "stdout"
        },
        {
          "output_type": "stream",
          "text": [
            "[INFO 2018-06-19 00:50:57,723 cleverhans] Epoch 0 took 0.04448103904724121 seconds\n",
            "[INFO 2018-06-19 00:50:57,740 cleverhans] Epoch 1 took 0.014891862869262695 seconds\n",
            "[INFO 2018-06-19 00:50:57,751 cleverhans] Epoch 2 took 0.010496377944946289 seconds\n",
            "[INFO 2018-06-19 00:50:57,763 cleverhans] Epoch 3 took 0.009918928146362305 seconds\n",
            "[INFO 2018-06-19 00:50:57,776 cleverhans] Epoch 4 took 0.011343955993652344 seconds\n",
            "[INFO 2018-06-19 00:50:57,788 cleverhans] Epoch 5 took 0.011271238327026367 seconds\n",
            "[INFO 2018-06-19 00:50:57,800 cleverhans] Epoch 6 took 0.010257244110107422 seconds\n",
            "[INFO 2018-06-19 00:50:57,812 cleverhans] Epoch 7 took 0.009504079818725586 seconds\n",
            "[INFO 2018-06-19 00:50:57,821 cleverhans] Epoch 8 took 0.00816035270690918 seconds\n",
            "[INFO 2018-06-19 00:50:57,831 cleverhans] Epoch 9 took 0.008731365203857422 seconds\n",
            "[INFO 2018-06-19 00:50:57,832 cleverhans] Completed model training.\n"
          ],
          "name": "stderr"
        },
        {
          "output_type": "stream",
          "text": [
            "Augmenting substitute training data.\n",
            "Labeling substitute training data.\n",
            "Substitute training epoch #1\n"
          ],
          "name": "stdout"
        },
        {
          "output_type": "stream",
          "text": [
            "[INFO 2018-06-19 00:51:03,795 cleverhans] Epoch 0 took 0.06010270118713379 seconds\n",
            "[INFO 2018-06-19 00:51:03,816 cleverhans] Epoch 1 took 0.019557952880859375 seconds\n",
            "[INFO 2018-06-19 00:51:03,836 cleverhans] Epoch 2 took 0.017413616180419922 seconds\n",
            "[INFO 2018-06-19 00:51:03,856 cleverhans] Epoch 3 took 0.018473386764526367 seconds\n",
            "[INFO 2018-06-19 00:51:03,875 cleverhans] Epoch 4 took 0.01782822608947754 seconds\n",
            "[INFO 2018-06-19 00:51:03,895 cleverhans] Epoch 5 took 0.01777052879333496 seconds\n",
            "[INFO 2018-06-19 00:51:03,914 cleverhans] Epoch 6 took 0.017745256423950195 seconds\n",
            "[INFO 2018-06-19 00:51:03,934 cleverhans] Epoch 7 took 0.01829385757446289 seconds\n",
            "[INFO 2018-06-19 00:51:03,955 cleverhans] Epoch 8 took 0.019132614135742188 seconds\n",
            "[INFO 2018-06-19 00:51:03,975 cleverhans] Epoch 9 took 0.0181124210357666 seconds\n",
            "[INFO 2018-06-19 00:51:03,977 cleverhans] Completed model training.\n"
          ],
          "name": "stderr"
        },
        {
          "output_type": "stream",
          "text": [
            "Augmenting substitute training data.\n",
            "Labeling substitute training data.\n",
            "Substitute training epoch #2\n"
          ],
          "name": "stdout"
        },
        {
          "output_type": "stream",
          "text": [
            "[INFO 2018-06-19 00:51:20,299 cleverhans] Epoch 0 took 0.06878042221069336 seconds\n",
            "[INFO 2018-06-19 00:51:20,331 cleverhans] Epoch 1 took 0.030263185501098633 seconds\n",
            "[INFO 2018-06-19 00:51:20,361 cleverhans] Epoch 2 took 0.02752375602722168 seconds\n",
            "[INFO 2018-06-19 00:51:20,390 cleverhans] Epoch 3 took 0.027424097061157227 seconds\n",
            "[INFO 2018-06-19 00:51:20,417 cleverhans] Epoch 4 took 0.025882959365844727 seconds\n",
            "[INFO 2018-06-19 00:51:20,446 cleverhans] Epoch 5 took 0.027164936065673828 seconds\n",
            "[INFO 2018-06-19 00:51:20,476 cleverhans] Epoch 6 took 0.026007413864135742 seconds\n",
            "[INFO 2018-06-19 00:51:20,507 cleverhans] Epoch 7 took 0.027154922485351562 seconds\n",
            "[INFO 2018-06-19 00:51:20,535 cleverhans] Epoch 8 took 0.026428937911987305 seconds\n",
            "[INFO 2018-06-19 00:51:20,563 cleverhans] Epoch 9 took 0.026094675064086914 seconds\n",
            "[INFO 2018-06-19 00:51:20,565 cleverhans] Completed model training.\n"
          ],
          "name": "stderr"
        },
        {
          "output_type": "stream",
          "text": [
            "Augmenting substitute training data.\n",
            "Labeling substitute training data.\n",
            "Substitute training epoch #3\n"
          ],
          "name": "stdout"
        },
        {
          "output_type": "stream",
          "text": [
            "[INFO 2018-06-19 00:52:03,001 cleverhans] Epoch 0 took 0.09976863861083984 seconds\n",
            "[INFO 2018-06-19 00:52:03,053 cleverhans] Epoch 1 took 0.050163984298706055 seconds\n",
            "[INFO 2018-06-19 00:52:03,104 cleverhans] Epoch 2 took 0.049007415771484375 seconds\n",
            "[INFO 2018-06-19 00:52:03,162 cleverhans] Epoch 3 took 0.05669903755187988 seconds\n",
            "[INFO 2018-06-19 00:52:03,215 cleverhans] Epoch 4 took 0.05099177360534668 seconds\n",
            "[INFO 2018-06-19 00:52:03,266 cleverhans] Epoch 5 took 0.04687309265136719 seconds\n",
            "[INFO 2018-06-19 00:52:03,323 cleverhans] Epoch 6 took 0.0549168586730957 seconds\n",
            "[INFO 2018-06-19 00:52:03,375 cleverhans] Epoch 7 took 0.05026650428771973 seconds\n",
            "[INFO 2018-06-19 00:52:03,432 cleverhans] Epoch 8 took 0.055994272232055664 seconds\n",
            "[INFO 2018-06-19 00:52:03,484 cleverhans] Epoch 9 took 0.05026888847351074 seconds\n",
            "[INFO 2018-06-19 00:52:03,489 cleverhans] Completed model training.\n"
          ],
          "name": "stderr"
        },
        {
          "output_type": "stream",
          "text": [
            "Augmenting substitute training data.\n",
            "Labeling substitute training data.\n",
            "Substitute training epoch #4\n"
          ],
          "name": "stdout"
        },
        {
          "output_type": "stream",
          "text": [
            "[INFO 2018-06-19 00:54:26,636 cleverhans] Epoch 0 took 0.14417719841003418 seconds\n",
            "[INFO 2018-06-19 00:54:26,730 cleverhans] Epoch 1 took 0.0915529727935791 seconds\n",
            "[INFO 2018-06-19 00:54:26,825 cleverhans] Epoch 2 took 0.09369111061096191 seconds\n",
            "[INFO 2018-06-19 00:54:26,918 cleverhans] Epoch 3 took 0.09133148193359375 seconds\n",
            "[INFO 2018-06-19 00:54:27,015 cleverhans] Epoch 4 took 0.09484195709228516 seconds\n",
            "[INFO 2018-06-19 00:54:27,111 cleverhans] Epoch 5 took 0.09452652931213379 seconds\n",
            "[INFO 2018-06-19 00:54:27,204 cleverhans] Epoch 6 took 0.0910196304321289 seconds\n",
            "[INFO 2018-06-19 00:54:27,295 cleverhans] Epoch 7 took 0.08892822265625 seconds\n",
            "[INFO 2018-06-19 00:54:27,387 cleverhans] Epoch 8 took 0.08995532989501953 seconds\n",
            "[INFO 2018-06-19 00:54:27,494 cleverhans] Epoch 9 took 0.10539698600769043 seconds\n",
            "[INFO 2018-06-19 00:54:27,495 cleverhans] Completed model training.\n"
          ],
          "name": "stderr"
        },
        {
          "output_type": "stream",
          "text": [
            "Augmenting substitute training data.\n",
            "Labeling substitute training data.\n",
            "Substitute training epoch #5\n"
          ],
          "name": "stdout"
        },
        {
          "output_type": "stream",
          "text": [
            "[INFO 2018-06-19 01:05:33,849 cleverhans] Epoch 0 took 0.2536497116088867 seconds\n",
            "[INFO 2018-06-19 01:05:34,044 cleverhans] Epoch 1 took 0.1930689811706543 seconds\n",
            "[INFO 2018-06-19 01:05:34,239 cleverhans] Epoch 2 took 0.19211697578430176 seconds\n",
            "[INFO 2018-06-19 01:05:34,426 cleverhans] Epoch 3 took 0.18540239334106445 seconds\n",
            "[INFO 2018-06-19 01:05:34,624 cleverhans] Epoch 4 took 0.1964585781097412 seconds\n",
            "[INFO 2018-06-19 01:05:34,815 cleverhans] Epoch 5 took 0.18793630599975586 seconds\n",
            "[INFO 2018-06-19 01:05:34,999 cleverhans] Epoch 6 took 0.1825416088104248 seconds\n",
            "[INFO 2018-06-19 01:05:35,195 cleverhans] Epoch 7 took 0.19377779960632324 seconds\n",
            "[INFO 2018-06-19 01:05:35,383 cleverhans] Epoch 8 took 0.18585848808288574 seconds\n",
            "[INFO 2018-06-19 01:05:35,588 cleverhans] Epoch 9 took 0.20314693450927734 seconds\n",
            "[INFO 2018-06-19 01:05:35,589 cleverhans] Completed model training.\n"
          ],
          "name": "stderr"
        }
      ]
    },
    {
      "metadata": {
        "id": "vsc5W-9plHLM",
        "colab_type": "code",
        "colab": {
          "autoexec": {
            "startup": false,
            "wait_interval": 0
          },
          "base_uri": "https://localhost:8080/",
          "height": 34
        },
        "outputId": "eb8d8e8f-f72b-4b3d-8302-053c93061334",
        "executionInfo": {
          "status": "ok",
          "timestamp": 1529370600271,
          "user_tz": 180,
          "elapsed": 861,
          "user": {
            "displayName": "Bruce MacDonald",
            "photoUrl": "//lh5.googleusercontent.com/-Ze95lBrKU1M/AAAAAAAAAAI/AAAAAAAABo4/2oUOntC9DBE/s50-c-k-no/photo.jpg",
            "userId": "116600609320820755858"
          }
        }
      },
      "cell_type": "code",
      "source": [
        "# Evaluate the substitute model on clean test examples\n",
        "eval_params = {'batch_size': batch_size}\n",
        "acc = model_eval(sess, x, y, preds_sub, X_test, Y_test, args=eval_params)\n",
        "print(\"Accuracy of substitute model on MNIST test data: \", acc)\n",
        "accuracies['sub'] = acc"
      ],
      "execution_count": 15,
      "outputs": [
        {
          "output_type": "stream",
          "text": [
            "Accuracy of substitute model on MNIST test data:  0.7924873096446701\n"
          ],
          "name": "stdout"
        }
      ]
    },
    {
      "metadata": {
        "id": "xH1LGCc2m-_h",
        "colab_type": "text"
      },
      "cell_type": "markdown",
      "source": [
        "Finally, we can use the Fast gradient sign method to generate adversarial examples based on our substitute model. This method creates an adversarial image by finding the direction of the gradient and adding a pixel-wide perturbation in that direction.\n",
        "\n",
        "We will then test these new adversarial examples on our theoretical blackbox."
      ]
    },
    {
      "metadata": {
        "id": "LVU7XPbpl4TG",
        "colab_type": "code",
        "colab": {
          "autoexec": {
            "startup": false,
            "wait_interval": 0
          },
          "base_uri": "https://localhost:8080/",
          "height": 34
        },
        "outputId": "5bb7d9ab-acdb-4949-9624-fbeac9e55799",
        "executionInfo": {
          "status": "ok",
          "timestamp": 1529371171578,
          "user_tz": 180,
          "elapsed": 4119,
          "user": {
            "displayName": "Bruce MacDonald",
            "photoUrl": "//lh5.googleusercontent.com/-Ze95lBrKU1M/AAAAAAAAAAI/AAAAAAAABo4/2oUOntC9DBE/s50-c-k-no/photo.jpg",
            "userId": "116600609320820755858"
          }
        }
      },
      "cell_type": "code",
      "source": [
        "# Initialize the Fast Gradient Sign Method (FGSM) attack object.\n",
        "fgsm_par = {'eps': 0.3, 'ord': np.inf, 'clip_min': 0., 'clip_max': 1.}\n",
        "fgsm = FastGradientMethod(model_sub, sess=sess)\n",
        "\n",
        "# Craft adversarial examples using the substitute\n",
        "eval_params = {'batch_size': batch_size}\n",
        "x_adv_sub = fgsm.generate(x, **fgsm_par)\n",
        "\n",
        "# Evaluate the accuracy of the \"black-box\" model on adversarial examples\n",
        "accuracy = model_eval(sess, x, y, model(x_adv_sub), X_test, Y_test,\n",
        "                          args=eval_params)\n",
        "print('Test accuracy of oracle on adversarial examples generated '\n",
        "      'using the substitute: ' + str(accuracy))\n",
        "accuracies['bbox_on_sub_adv_ex'] = accuracy"
      ],
      "execution_count": 23,
      "outputs": [
        {
          "output_type": "stream",
          "text": [
            "Test accuracy of oracle on adversarial examples generated using the substitute: 0.8011167512690356\n"
          ],
          "name": "stdout"
        }
      ]
    },
    {
      "metadata": {
        "id": "7TD45SanoEP1",
        "colab_type": "text"
      },
      "cell_type": "markdown",
      "source": [
        "The test accuracy of our blackbox (oracle) has dropped from 99% to 80% on adversarial examples generated from our substitute model."
      ]
    }
  ]
}